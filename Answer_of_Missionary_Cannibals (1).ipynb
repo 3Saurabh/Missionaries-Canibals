{
  "cells": [
    {
      "cell_type": "markdown",
      "metadata": {
        "id": "y5dddMZVQogb"
      },
      "source": [
        "# <center>3 Missionaries 3 Cannibals</center> \n",
        "\n",
        "Create the famous 3 missionaries 3 cannibals crossing the river game.\n",
        "\n",
        "[Play Game!](https://www.novelgames.com/en/missionaries/)\n",
        "\n",
        "## Notebook Content :\n",
        "\n",
        "- **Lesson 1 :**\n",
        "  - Setting up the initial environment of the game.\n",
        "\n",
        "- **Lesson 2 :**\n",
        "  - Adding the required valid and invalid conditions alongwith their operations.\n",
        "\n",
        "- **Lesson 3 :**\n",
        "  - Combining all segments of the code to build the game.\n",
        "\n",
        "- **Lesson 4 :**\n",
        "  - Adding emoticons to complete the game with better interface.\n"
      ]
    },
    {
      "cell_type": "markdown",
      "metadata": {
        "id": "E6meN3PiQogl"
      },
      "source": [
        "## Rules :\n",
        "- Only 1 or 2 people are permitted on the boat to travel.\n",
        "- We cannot select anymore missionaries or cannibals on the boat than the available number of missionaries or cannibals on either side.\n",
        "- You **lose** if the number of cannibals exceeds the number of missionaries on either side.\n",
        "- You **win** if you successfully transfer all the missionaries and cannibals from right side to left side."
      ]
    },
    {
      "cell_type": "markdown",
      "metadata": {
        "id": "1fGHJcbTQogm"
      },
      "source": [
        "## <center>**Lesson 1**</center>\n",
        "\n",
        "#### <center>**Setting up the initial environment of the game**</center>"
      ]
    },
    {
      "cell_type": "markdown",
      "metadata": {
        "id": "2qAeNA_ZQogn"
      },
      "source": [
        "In the initial conditions of the game, all the missionaries and cannibals are on the right side alongwith the boat and the left side is completely empty. We will mimic this condition by defining variables for them.\n",
        "\n",
        "### **Define initial variables :**\n",
        "\n",
        "- Define variable `boat_side` as 'Right' initially. This depicts the boat being placed at right side.\n",
        "- Create numeric variables for number of missionaries and cannibals\n",
        "   on the right and left side. \n",
        "   So there are 3 missionaries and cannibals on right side and 0 on the left side.\n",
        "- **List of Variables :**\n",
        "`boat_side, missionaries_on_right, cannibals_on_right, missionaries_on_left, cannibals_on_left`\n"
      ]
    },
    {
      "cell_type": "code",
      "execution_count": null,
      "metadata": {
        "id": "AmjfaRdgQogo"
      },
      "outputs": [],
      "source": [
        "#### Your code ####\n",
        "boat_side = 'Right'\n",
        "missionaries_on_right = 3\n",
        "cannibals_on_right = 3\n",
        "missionaries_on_left = 0\n",
        "cannibals_on_left = 0"
      ]
    },
    {
      "cell_type": "markdown",
      "metadata": {
        "id": "544yxFpIQogp"
      },
      "source": [
        "Now display the inital conditions of the game using the following stylish manner :<br>\n",
        "\n",
        "`M = 0 C = 0  |-----B|  M = 3 C = 3`<br>\n",
        "\n",
        "Make sure to not hardcode all values."
      ]
    },
    {
      "cell_type": "code",
      "execution_count": null,
      "metadata": {
        "colab": {
          "base_uri": "https://localhost:8080/"
        },
        "id": "EGp8GNBhQogq",
        "outputId": "c1c60b25-3bbd-46cc-dda2-77ffcb810880"
      },
      "outputs": [
        {
          "name": "stdout",
          "output_type": "stream",
          "text": [
            "M = 0 C = 0 |-----B| M = 3 C = 3\n"
          ]
        }
      ],
      "source": [
        "#### Your code ####\n",
        "print(f'M = {missionaries_on_left} C = {cannibals_on_left} |-----B| M = {missionaries_on_right} C = {cannibals_on_right}')"
      ]
    },
    {
      "cell_type": "markdown",
      "metadata": {
        "id": "PObVD9tdQogq"
      },
      "source": [
        "## <center>**Lesson 2**</center>\n",
        "#### <center>**Adding the required valid and invalid conditions alongwith their operations**</center>\n"
      ]
    },
    {
      "cell_type": "markdown",
      "metadata": {
        "id": "2aDEi-SqQogq"
      },
      "source": [
        "Take input from the user for entering the number of missionaries and cannibals on the boat.<br>\n",
        "Store these values in 2 variables : `missionaries, cannibals`\n",
        "\n",
        "This part depicts the process of tapping the `missionaries` and `cannibals` on to the boat.  \n",
        "\n",
        "**Note :** Make sure you pass the appropriate message in the input function that assists user in entering the values. \n",
        "\n",
        "**Note :** The following code cells will be common for both right side and left side required in Lesson 3 and Lesson 4."
      ]
    },
    {
      "cell_type": "code",
      "execution_count": null,
      "metadata": {
        "colab": {
          "base_uri": "https://localhost:8080/"
        },
        "id": "GEglqSjrQogr",
        "outputId": "bf133c2c-8e0c-4e6c-c987-aa035c9bdbfe"
      },
      "outputs": [
        {
          "name": "stdout",
          "output_type": "stream",
          "text": [
            "ENTER THE NUMBER OF MISSIONARIES ON BOAT: 1\n",
            "ENTER THE NUMBER OF CANNIBALS ON BOAT: 1\n"
          ]
        }
      ],
      "source": [
        "### Your code ###\n",
        "missionaries = int(input('ENTER THE NUMBER OF MISSIONARIES ON BOAT: '))\n",
        "cannibals = int(input('ENTER THE NUMBER OF CANNIBALS ON BOAT: '))"
      ]
    },
    {
      "cell_type": "markdown",
      "metadata": {
        "id": "fVfioCyZQogs"
      },
      "source": [
        "**Invalid Move 1 :**\n",
        "\n",
        "Check if the maximum number of people on the boat are 1 or 2 only else print \"Invalid move 1\""
      ]
    },
    {
      "cell_type": "code",
      "execution_count": null,
      "metadata": {
        "id": "50I3KT4hQogs"
      },
      "outputs": [],
      "source": [
        "### Your code ###\n",
        "if (missionaries + cannibals)<0 or (missionaries+cannibals)>2:\n",
        "  print('Invalid Move 1')"
      ]
    },
    {
      "cell_type": "markdown",
      "metadata": {
        "id": "Oe1ymzIIQogt"
      },
      "source": [
        "###  <center>**Codeflow for Right Side**</center>"
      ]
    },
    {
      "cell_type": "markdown",
      "metadata": {
        "id": "SoyMGHXrZd28"
      },
      "source": [
        "Add if - else statement to check the value of `boat_side` variable and display if the boat is on right side.\n",
        "\n",
        "This is done to confirm the boat side before carrying out the required operations."
      ]
    },
    {
      "cell_type": "code",
      "execution_count": null,
      "metadata": {
        "colab": {
          "base_uri": "https://localhost:8080/"
        },
        "id": "E0035i_CZasN",
        "outputId": "74519cc4-d772-465a-f5e6-c86fee182983"
      },
      "outputs": [
        {
          "name": "stdout",
          "output_type": "stream",
          "text": [
            "Right\n"
          ]
        }
      ],
      "source": [
        "### Your code ###\n",
        "if boat_side == 'Right':\n",
        "  print('Right')\n",
        "else:\n",
        "  print('Left')"
      ]
    },
    {
      "cell_type": "markdown",
      "metadata": {
        "id": "Y8sYOlsqZolz"
      },
      "source": [
        "**Invalid Move 2 :**\n",
        "\n",
        "Check if the number of missionaries or cannibals entered on the boat are greater than the available missionaries or cannibals on the right side. If yes, print \"Invalid move 2\"."
      ]
    },
    {
      "cell_type": "code",
      "execution_count": null,
      "metadata": {
        "id": "PzW5raCfQogt"
      },
      "outputs": [],
      "source": [
        "### Your code ###\n",
        "if (missionaries_on_right < missionaries) or (cannibals_on_right < cannibals):\n",
        "  print('Invalid Move 2')"
      ]
    },
    {
      "cell_type": "markdown",
      "metadata": {
        "id": "d6wYZ7DLQogu"
      },
      "source": [
        "When the boat travels from right side to left side : \n",
        "- Number of missionaries and cannibals reduce from the right side.\n",
        "- Number of missionaries and cannibals increase on the left side."
      ]
    },
    {
      "cell_type": "code",
      "execution_count": null,
      "metadata": {
        "id": "rgbWSeUBQogu"
      },
      "outputs": [],
      "source": [
        "### Your code ###\n",
        "cannibals_on_right -= cannibals\n",
        "missionaries_on_right -= missionaries\n",
        "\n",
        "cannibals_on_left += cannibals\n",
        "missionaries_on_left += missionaries"
      ]
    },
    {
      "cell_type": "markdown",
      "metadata": {
        "id": "US5ADpenQogv"
      },
      "source": [
        "Display in the same format as mentioned above.\n",
        "\n",
        "`M = 1 C = 1  |B-----|  M = 2 C = 2`\n",
        "\n",
        "Change the `boat_side` variable to 'Left' aswell. \n",
        "\n",
        "This variable overwrite is the equivalent of the boat travelling from right side to left side."
      ]
    },
    {
      "cell_type": "code",
      "execution_count": null,
      "metadata": {
        "colab": {
          "base_uri": "https://localhost:8080/"
        },
        "id": "roWkGTzyQogv",
        "outputId": "7a30c245-4ea1-43a0-e4e5-f136069835f4"
      },
      "outputs": [
        {
          "name": "stdout",
          "output_type": "stream",
          "text": [
            "M = 1 C = 1 |-----B| M = 2 C = 2\n"
          ]
        }
      ],
      "source": [
        "### Your code ###\n",
        "print(f'M = {missionaries_on_left} C = {cannibals_on_left} |-----B| M = {missionaries_on_right} C = {cannibals_on_right}')\n",
        "boat_side = 'Left'"
      ]
    },
    {
      "cell_type": "markdown",
      "metadata": {
        "id": "WWKdADPJQogw"
      },
      "source": [
        "###  <center>**Codeflow for Left Side**</center>\n"
      ]
    },
    {
      "cell_type": "markdown",
      "metadata": {
        "id": "94_ZSJi8dSvd"
      },
      "source": [
        "Add if - else statement to check the value of `boat_side` variable and display if the boat is on left side.\n",
        "\n",
        "This is done to confirm the boat side before carrying out the required operations."
      ]
    },
    {
      "cell_type": "code",
      "execution_count": null,
      "metadata": {
        "colab": {
          "base_uri": "https://localhost:8080/"
        },
        "id": "zGgX00C-dSIt",
        "outputId": "b05aa807-b68e-4e98-ea57-58856f4c6d71"
      },
      "outputs": [
        {
          "name": "stdout",
          "output_type": "stream",
          "text": [
            "Right\n"
          ]
        }
      ],
      "source": [
        "### Your code ###\n",
        "if boat_side == 'Left':\n",
        "  print('Left')\n",
        "else:\n",
        "  print('Right')"
      ]
    },
    {
      "cell_type": "markdown",
      "metadata": {
        "id": "hrTq7kv7dQ2u"
      },
      "source": [
        "**Invalid Move 2 :**\n",
        "\n",
        "Check if the number of missionaries or cannibals entered on the boat are greater than the available missionaries or cannibals on the left side. If yes, print \"Invalid move 2\"."
      ]
    },
    {
      "cell_type": "code",
      "execution_count": null,
      "metadata": {
        "colab": {
          "base_uri": "https://localhost:8080/"
        },
        "id": "XlrT8EEaQogw",
        "outputId": "c803dbdc-be2c-49ca-a16d-952e65b7e14c"
      },
      "outputs": [
        {
          "name": "stdout",
          "output_type": "stream",
          "text": [
            "Invalid Move 2\n"
          ]
        }
      ],
      "source": [
        "### Your code ###\n",
        "if (missionaries_on_left < missionaries) or (cannibals_on_left < cannibals):\n",
        "  print('Invalid Move 2')"
      ]
    },
    {
      "cell_type": "markdown",
      "metadata": {
        "id": "gdYiQ1WXQogw"
      },
      "source": [
        "When the boat travels from left side to right side : \n",
        "- Number of missionaries and cannibals reduce from the left side.\n",
        "- Number of missionaries and cannibals increase on the right side."
      ]
    },
    {
      "cell_type": "code",
      "execution_count": null,
      "metadata": {
        "id": "z196LJKBQogw"
      },
      "outputs": [],
      "source": [
        "### Your code ###\n",
        "cannibals_on_left -= cannibals\n",
        "missionaries_on_left -= missionaries\n",
        "\n",
        "cannibals_on_right += cannibals\n",
        "missionaries_on_right += missionaries"
      ]
    },
    {
      "cell_type": "markdown",
      "metadata": {
        "id": "oB-3nBCkQogx"
      },
      "source": [
        "Display in the same format as mentioned above.\n",
        "\n",
        "`M = 0 C = 0  |-----B|  M = 3 C = 3`\n",
        "\n",
        "Change the `boat_side` variable to 'Right'. \n",
        "\n",
        "This marks the boat being travelled back to right side."
      ]
    },
    {
      "cell_type": "code",
      "execution_count": null,
      "metadata": {
        "colab": {
          "base_uri": "https://localhost:8080/"
        },
        "id": "mtt1iSkoQogx",
        "outputId": "92593d2a-688c-4ddc-a37e-73850fe0fe54"
      },
      "outputs": [
        {
          "name": "stdout",
          "output_type": "stream",
          "text": [
            "M = -2 C = -2 |-----B| M = 5 C = 5\n"
          ]
        }
      ],
      "source": [
        "### Your code ###\n",
        "print(f'M = {missionaries_on_left} C = {cannibals_on_left} |-----B| M = {missionaries_on_right} C = {cannibals_on_right}')\n",
        "boat_side = 'Right'"
      ]
    },
    {
      "cell_type": "markdown",
      "metadata": {
        "id": "WKu9fCDCgvPb"
      },
      "source": [
        "###  <center>**Conditions for Losing the Game**</center>"
      ]
    },
    {
      "cell_type": "markdown",
      "metadata": {
        "id": "sNJhIGL6Qogz"
      },
      "source": [
        "Add conditions to check if the game is lost :\n",
        "- If the number of missionaries is less than the number of cannibals on the right side and the number of missionaries on right side are greater than 0, then print `'YOU LOSE'`.\n",
        "- If the number of missionaries is less than the number of cannibals on the left side and the number of missionaries on left side are greater than 0, then print `'YOU LOSE'`."
      ]
    },
    {
      "cell_type": "code",
      "execution_count": null,
      "metadata": {
        "id": "zKqb4BADQog0"
      },
      "outputs": [],
      "source": [
        "### Your code ###  \n",
        "if ((missionaries_on_right < cannibals_on_right) and (missionaries_on_right > 0)) or ((missionaries_on_left < cannibals_on_left) and (missionaries_on_left > 0)):\n",
        "  print('YOU LOSE')"
      ]
    },
    {
      "cell_type": "markdown",
      "metadata": {
        "id": "3JdBVqIWhdwj"
      },
      "source": [
        "###  <center>**Conditions for Winning the Game**</center>"
      ]
    },
    {
      "cell_type": "markdown",
      "metadata": {
        "id": "aS47ad6CQog0"
      },
      "source": [
        "Add conditions to check if the game is won :\n",
        "- If the number of missionaries and cannibals on the left side are equal to 3, then print `'YOU WIN'`."
      ]
    },
    {
      "cell_type": "code",
      "execution_count": null,
      "metadata": {
        "id": "5dW6W8gyQog0"
      },
      "outputs": [],
      "source": [
        "### Your code ###\n",
        "if (missionaries_on_left and cannibals_on_left) == 3:\n",
        "  print('YOU WIN')"
      ]
    },
    {
      "cell_type": "markdown",
      "metadata": {
        "id": "Si__xVHFQog1"
      },
      "source": [
        "## <center>**Lesson 3**</center>\n",
        "#### <center>**Combining all segments of the code to build the game**</center>"
      ]
    },
    {
      "cell_type": "markdown",
      "metadata": {
        "id": "e7uW2kToiKsv"
      },
      "source": [
        "### **Structure of the Combined Code :**\n",
        "\n",
        "<center>\n",
        "\n",
        "```\n",
        "    Setup the inital game conditions and display your game board in the below format.\n",
        "     \n",
        "        M = 0 C = 0  |-----B|  M = 3 C = 3 \n",
        "```\n",
        "</center>\n",
        "\n",
        " boat_side == \"Right\":\n",
        "\n",
        "<center>\n",
        "\n",
        "``` \n",
        "    Check the maximum number of people permitted to travel on the boat.    \n",
        "```\n",
        "```\n",
        "    Now check if the number of missionaries or cannibals entered on the \n",
        "    boat are more than the available missionaries and cannibals on the  \n",
        "    right side.\n",
        "```   \n",
        "``` \n",
        "    When the boat travels from the right side, missionaries and cannibals\n",
        "    reduce from the right side and increase on the left side.    \n",
        "```     \n",
        "```\n",
        "    Display your game board in the below format.\n",
        "    \n",
        "        M = 0 C = 0  |B-----|  M = 3 C = 3\n",
        "\n",
        "    Make the necessary changes that mark the side change from right side to left side.\n",
        "```\n",
        "</center>\n",
        "\n",
        " boat_side == \"Left\":\n",
        "\n",
        "<center>\n",
        "\n",
        "``` \n",
        "    Check the maximum number of people permitted to travel on the boat.    \n",
        "```\n",
        "```\n",
        "    Now check if the number of missionaries or cannibals entered on the \n",
        "    boat are more than the available missionaries and cannibals on the  \n",
        "    left side.\n",
        "```   \n",
        "``` \n",
        "    When the boat travels from the left side, missionaries and cannibals\n",
        "    reduce from the left side and increase on the right side.    \n",
        "```\n",
        "``` \n",
        "    Display your game board in the below format.\n",
        "    \n",
        "    M = 0 C = 0  |-----B|  M = 3 C = 3\n",
        "\n",
        "    Make the necessary changes that mark the side change from left side to right side.\n",
        "```\n",
        "</center>"
      ]
    },
    {
      "cell_type": "markdown",
      "metadata": {
        "id": "IiNzyXCJQog1"
      },
      "source": [
        "The game must go on until you win or lose, so lets put all the conditions inside an infinite loop :\n",
        "\n",
        "- Connect all the segments of the code according to the above structure and do the necessary amendments.\n",
        "- If a move is invalid then without making any changes, you have to `continue`. \n",
        "\n",
        "  This is done so that we get a second chance to change our inputs and start over from the same point without losing previous amendments.\n",
        "\n",
        "- If you Win or Lose the game `break` the loop and get out of it.\n",
        "- Check the winning and losing condition everytime after the boat has travelled.\n",
        "- After getting out of the loop print `Game Over`."
      ]
    },
    {
      "cell_type": "code",
      "execution_count": null,
      "metadata": {
        "colab": {
          "background_save": true,
          "base_uri": "https://localhost:8080/"
        },
        "id": "xUjfSzZuQog1",
        "outputId": "3829f230-3595-4164-9e8b-c3d8380b82f5"
      },
      "outputs": [
        {
          "name": "stdout",
          "output_type": "stream",
          "text": [
            "Right Side\n",
            "M = 0 C = 0 |-----B| M = 3 C = 3\n",
            "M = 1 C = 1 |-----B| M = 2 C = 2\n",
            "M = 0 C = 0 |-----B| M = 3 C = 3\n"
          ]
        }
      ],
      "source": [
        "### Your code ###\n",
        "boat_side = 'Right'\n",
        "missionaries_on_right = 3;cannibals_on_right = 3\n",
        "missionaries_on_left = 0;cannibals_on_left = 0\n",
        "\n",
        "print('Right Side')\n",
        "print(f'M = {missionaries_on_left} C = {cannibals_on_left} |-----B| M = {missionaries_on_right} C = {cannibals_on_right}')\n",
        "\n",
        "while True:\n",
        "   \n",
        "  ## BOAT ON RIGHT SIDE\n",
        "  if boat_side == 'Right':\n",
        "    \n",
        "    missionaries = int(input('ENTER THE NUMBER OF MISSIONARIES ON BOAT: '))\n",
        "    cannibals = int(input('ENTER THE NUMBER OF CANNIBALS BOAT: '))\n",
        "    \n",
        "    if (missionaries + cannibals)<0 or (missionaries + cannibals)>2:\n",
        "      print('Invalid Move 1')\n",
        "      continue\n",
        "    else:\n",
        "      if (missionaries_on_right < missionaries) or (cannibals_on_right < cannibals):\n",
        "        print('Invalid Move 2')\n",
        "        continue\n",
        "    \n",
        "      else:\n",
        "        cannibals_on_right -= cannibals;missionaries_on_right -= missionaries\n",
        "        cannibals_on_left += cannibals;missionaries_on_left += missionaries\n",
        "\n",
        "        print(f'M = {missionaries_on_left} C = {cannibals_on_left} |-----B| M = {missionaries_on_right} C = {cannibals_on_right}')\n",
        "        boat_side = 'Left'\n",
        "\n",
        "  ## BOAT ON LEFT SIDE\n",
        "  elif boat_side == 'Left':\n",
        "\n",
        "    missionaries = int(input('ENTER THE NUMBER OF MISSIONARIES ON BOAT: '))\n",
        "    cannibals = int(input('ENTER THE NUMBER OF CANNIBALS BOAT: '))\n",
        "    \n",
        "    if (missionaries + cannibals) < 0 or (missionaries + cannibals) > 2 :\n",
        "      print('Invalid Move 1')\n",
        "      continue\n",
        "    else:\n",
        "      if (missionaries_on_left < missionaries) or (cannibals_on_left < cannibals):\n",
        "        print('Invalid Move 2')\n",
        "        continue\n",
        "      else:\n",
        "        cannibals_on_left -= cannibals;missionaries_on_left -= missionaries\n",
        "        cannibals_on_right += cannibals;missionaries_on_right += missionaries\n",
        "\n",
        "        print(f'M = {missionaries_on_left} C = {cannibals_on_left} |-----B| M = {missionaries_on_right} C = {cannibals_on_right}')\n",
        "        boat_side = 'Right'\n",
        "  \n",
        "  ### GAME RESULT\n",
        "  if ((missionaries_on_right < cannibals_on_right) and (missionaries_on_right > 0)) or ((missionaries_on_left < cannibals_on_left) and (missionaries_on_left > 0)):\n",
        "    print('YOU LOSE')\n",
        "    break\n",
        "    \n",
        "  elif (missionaries_on_left and cannibals_on_left) == 3:\n",
        "    print('YOU WIN')  \n",
        "    break  \n",
        "\n",
        "print('GAME OVER')"
      ]
    },
    {
      "cell_type": "markdown",
      "metadata": {
        "id": "FZHREN7aVHTa"
      },
      "source": [
        "## <center>**Lesson 4**</center>\n",
        "\n",
        "####<center>**Adding emoticons to complete the game with better interface**</center>"
      ]
    },
    {
      "cell_type": "markdown",
      "metadata": {
        "id": "-hIyuzsJQog3"
      },
      "source": [
        "###  Let's make it pretty!\n",
        "\n",
        "#### Clear Screen :\n",
        "- This is a `function` that is utilized to clear the screen after every input statement and helps us to reduce the huge output generated after playing the game built in Lesson 3.\n",
        "  \n",
        "- Copy the following code snippet and paste at the top of your code:\n",
        "\n",
        "  `from IPython.display import clear_output`\n",
        "\n",
        "- Decide its place in the code such that after using it, we should be able to see the changes done after carrying out all the operations of that side and assists us in deciding our next move for the opposite side.\n",
        "\n",
        "  `clear_output()`\n",
        "\n",
        "#### Adding Emoticons :\n",
        "- Use the power of unicodes and emoticons.\n",
        "- Use of string replication.\n",
        "- **Hint :** The unicodes are in string datatype string and display using print function. \n",
        "\n",
        "**The output should look like this after making all the changes**\n",
        "\n",
        "|🌊🌊🌊🌊🌊🚢|💂💂💂👹👹👹\n",
        "<br>\n",
        "After the first move, if we input 1 missionary and 1 cannibal the output will be:\n",
        "\n",
        "💂👹|🌊🌊🌊🌊🌊🚢|💂💂👹👹\n",
        "\n",
        "##### Unicodes\n",
        "💂 = '\\U0001f482'\n",
        "\n",
        "👹 = '\\U0001f479'\n",
        "\n",
        "🌊 = '\\U0001f30a'\n",
        "\n",
        "🚢 = '\\U0001f6A2'"
      ]
    },
    {
      "cell_type": "code",
      "execution_count": null,
      "metadata": {
        "colab": {
          "base_uri": "https://localhost:8080/"
        },
        "id": "Cadm-2d0Qog4",
        "outputId": "ad88bed8-9e0a-4af0-899e-9e138c2828a1"
      },
      "outputs": [
        {
          "name": "stdout",
          "output_type": "stream",
          "text": [
            "💂💂💂\n",
            "👹👹👹\n",
            "🌊🌊🌊🌊\n",
            "🚢\n",
            "\n",
            "\n"
          ]
        }
      ],
      "source": [
        "# Print in extra stylish manner\n",
        "\n",
        "# Display the number of missionaries based on their count on the left side using string replication\n",
        "### Your code ###\n",
        "print('\\U0001f482'*missionaries_on_left)\n",
        "\n",
        "# Display the number of cannibals based on their count on the left side using string replication\n",
        "### Your code ###\n",
        "print('\\U0001f479'*cannibals_on_left)\n",
        "\n",
        "# Display the waves emoji for 4 times using string replication\n",
        "### Your code ###\n",
        "print('\\U0001f30a'*4)\n",
        "\n",
        "# Display the boat using string replication\n",
        "### Your code ###\n",
        "print('\\U0001f6A2'*1)\n",
        "\n",
        "# Display the number of missionaries based on their count on the right side using string replication\n",
        "### Your code ###\n",
        "print('\\U0001f482'*missionaries_on_right)\n",
        "\n",
        "# Display the number of cannibals based on their count on the right side using string replication\n",
        "### Your code ###\n",
        "print('\\U0001f479'*cannibals_on_right)"
      ]
    },
    {
      "cell_type": "markdown",
      "metadata": {
        "id": "WpcPEa3JQog4"
      },
      "source": [
        "### <center>**Complete Code**</center>\n"
      ]
    },
    {
      "cell_type": "code",
      "execution_count": null,
      "metadata": {
        "colab": {
          "base_uri": "https://localhost:8080/"
        },
        "id": "ET8viXLG0e2K",
        "outputId": "8ee693c3-b386-48f6-f5d6-6725e7da19ec"
      },
      "outputs": [
        {
          "name": "stdout",
          "output_type": "stream",
          "text": [
            "💂💂💂 👹👹👹 🚢 🌊🌊🌊🌊  \n",
            "YOU WIN\n",
            "GAME OVER\n"
          ]
        }
      ],
      "source": [
        "### Your code ###\n",
        "from IPython.display import clear_output\n",
        "\n",
        "boat_side = 'Right'\n",
        "missionaries_on_right = 3;cannibals_on_right = 3\n",
        "missionaries_on_left = 0;cannibals_on_left = 0\n",
        "\n",
        "print('Right Side')\n",
        "print('\\U0001f482'*missionaries_on_left,'\\U0001f479'*cannibals_on_left,'\\U0001f30a'*4,\n",
        "      '\\U0001f6A2'*1,'\\U0001f482'*missionaries_on_right,'\\U0001f479'*cannibals_on_right)\n",
        "\n",
        "while True:\n",
        "   \n",
        "  ## BOAT ON RIGHT SIDE\n",
        "  if boat_side == 'Right':\n",
        "    \n",
        "    missionaries = int(input('ENTER THE NUMBER OF MISSIONARIES ON BOAT: '))\n",
        "    cannibals = int(input('ENTER THE NUMBER OF CANNIBALS BOAT: '))\n",
        "    \n",
        "    if (missionaries + cannibals)<0 or (missionaries + cannibals) > 2 :\n",
        "      print('Invalid Move 1')\n",
        "      continue\n",
        "    else:\n",
        "      if (missionaries_on_right < missionaries) or (cannibals_on_right < cannibals):\n",
        "        print('Invalid Move 2')\n",
        "        continue\n",
        "    \n",
        "      else:\n",
        "        cannibals_on_right -= cannibals;missionaries_on_right -= missionaries\n",
        "        cannibals_on_left += cannibals;missionaries_on_left += missionaries\n",
        "        clear_output()\n",
        "        print('\\U0001f482'*missionaries_on_left,'\\U0001f479'*cannibals_on_left,'\\U0001f6A2'*1,\n",
        "              '\\U0001f30a'*4,'\\U0001f482'*missionaries_on_right,'\\U0001f479'*cannibals_on_right)\n",
        "        boat_side = 'Left'\n",
        "\n",
        "  ## BOAT ON LEFT SIDE\n",
        "  elif boat_side == 'Left':\n",
        "\n",
        "    missionaries = int(input('ENTER THE NUMBER OF MISSIONARIES ON BOAT: '))\n",
        "    cannibals = int(input('ENTER THE NUMBER OF CANNIBALS BOAT: '))\n",
        "    \n",
        "    if (missionaries + cannibals) < 0 or (missionaries + cannibals) > 2:\n",
        "      print('Invalid Move 1')\n",
        "      continue\n",
        "    else:\n",
        "      if (missionaries_on_left < missionaries) or (cannibals_on_left < cannibals):\n",
        "        print('Invalid Move 2')\n",
        "        continue\n",
        "      else:\n",
        "        cannibals_on_left -= cannibals;missionaries_on_left -= missionaries\n",
        "        cannibals_on_right += cannibals;missionaries_on_right += missionaries\n",
        "        clear_output()\n",
        "        print('\\U0001f482'*missionaries_on_left,'\\U0001f479'*cannibals_on_left,'\\U0001f30a'*4,\n",
        "              '\\U0001f6A2'*1,'\\U0001f482'*missionaries_on_right,'\\U0001f479'*cannibals_on_right)\n",
        "        boat_side = 'Right'\n",
        "  \n",
        "  ### GAME RESULT\n",
        "  if ((missionaries_on_right < cannibals_on_right) and (missionaries_on_right > 0)) or ((missionaries_on_left < cannibals_on_left) and (missionaries_on_left > 0)):\n",
        "    print('YOU LOSE')\n",
        "    break\n",
        "    \n",
        "  elif (missionaries_on_left and cannibals_on_left) == 3:\n",
        "    print('YOU WIN')  \n",
        "    break  \n",
        "\n",
        "print('GAME OVER')"
      ]
    },
    {
      "cell_type": "code",
      "source": [],
      "metadata": {
        "id": "qGEPxKmctggr"
      },
      "execution_count": null,
      "outputs": []
    },
    {
      "cell_type": "markdown",
      "metadata": {
        "id": "VDdKbLpalpUS"
      },
      "source": [
        "# <center>Happy Learning!</center>"
      ]
    }
  ],
  "metadata": {
    "colab": {
      "collapsed_sections": [
        "y5dddMZVQogb",
        "1fGHJcbTQogm",
        "2qAeNA_ZQogn",
        "PObVD9tdQogq",
        "Oe1ymzIIQogt",
        "WWKdADPJQogw",
        "WKu9fCDCgvPb",
        "3JdBVqIWhdwj",
        "Si__xVHFQog1",
        "e7uW2kToiKsv",
        "FZHREN7aVHTa",
        "-hIyuzsJQog3",
        "WpcPEa3JQog4"
      ],
      "provenance": []
    },
    "kernelspec": {
      "display_name": "Python 3",
      "language": "python",
      "name": "python3"
    },
    "language_info": {
      "codemirror_mode": {
        "name": "ipython",
        "version": 3
      },
      "file_extension": ".py",
      "mimetype": "text/x-python",
      "name": "python",
      "nbconvert_exporter": "python",
      "pygments_lexer": "ipython3",
      "version": "3.8.3"
    },
    "toc": {
      "base_numbering": 1,
      "nav_menu": {},
      "number_sections": true,
      "sideBar": true,
      "skip_h1_title": false,
      "title_cell": "Table of Contents",
      "title_sidebar": "Contents",
      "toc_cell": false,
      "toc_position": {},
      "toc_section_display": true,
      "toc_window_display": false
    }
  },
  "nbformat": 4,
  "nbformat_minor": 0
}